{
 "cells": [
  {
   "cell_type": "markdown",
   "id": "b6f60d2a-0ad3-4fb8-9127-b1a8567eeac7",
   "metadata": {},
   "source": [
    "# 1 -Description Dataset Iris (origine, varibles, objectifs d'études)"
   ]
  },
  {
   "cell_type": "markdown",
   "id": "7d3edb44-839d-4967-b450-072297925c7d",
   "metadata": {},
   "source": [
    "# 3 - Discussion sur les observations importantes à partir des visualisation"
   ]
  },
  {
   "cell_type": "code",
   "execution_count": null,
   "id": "3e6efba1-bb0d-44b2-8d90-fc8aa1aee419",
   "metadata": {},
   "outputs": [],
   "source": []
  }
 ],
 "metadata": {
  "kernelspec": {
   "display_name": "Python 3 (ipykernel)",
   "language": "python",
   "name": "python3"
  },
  "language_info": {
   "codemirror_mode": {
    "name": "ipython",
    "version": 3
   },
   "file_extension": ".py",
   "mimetype": "text/x-python",
   "name": "python",
   "nbconvert_exporter": "python",
   "pygments_lexer": "ipython3",
   "version": "3.12.4"
  }
 },
 "nbformat": 4,
 "nbformat_minor": 5
}
