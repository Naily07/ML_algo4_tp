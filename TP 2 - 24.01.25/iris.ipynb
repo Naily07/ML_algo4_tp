{
 "cells": [
  {
   "cell_type": "markdown",
   "id": "b6f60d2a-0ad3-4fb8-9127-b1a8567eeac7",
   "metadata": {},
   "source": [
    "# 1 -Description Dataset Iris (origine, variables, objectifs d'études)\n",
    "\n",
    "## Origine\n",
    "Le dataset Iris est un ensemble de données célèbre en apprentissage automatique et en statistiques.\n",
    "C'est un jeu de données Iris connu aussi sous le nom de Iris de Fisher qui est un jeu de donées multivariées présenté en 1936 par Ronald Fisher. Les données sont collectées afin de quantifier les variations de morphologie des fleurs d'iris de trois espèces: Iris setosa, Iris versicolor et Iris virginica.\n",
    "\n",
    "## Variables\n",
    "Le dataset contient 150 observations réparties uniformément entre les trois espèces. Chaque observation est décrite par :\n",
    "\n",
    "Longueur du sépale (en cm)\n",
    "Largeur du sépale (en cm)\n",
    "Longueur du pétale (en cm)\n",
    "Largeur du pétale (en cm)\n",
    "Espèce : la classe (Setosa, Versicolor, ou Virginica).\n",
    "\n",
    "## Ojectifs d'études\n",
    ". Effectuer une classification des espèces en fonction des mesures.\n",
    ". Tester des algorithmes de machine learning tels que la régression logistique, les SVM, ou les réseaux de neurones.\n",
    ". Étudier les relations entre les variables à travers des visualisations et des analyses statistiques"
   ]
  },
  {
   "cell_type": "markdown",
   "id": "7d3edb44-839d-4967-b450-072297925c7d",
   "metadata": {},
   "source": [
    "# 3 - Discussion sur les observations importantes à partir des visualisation\n",
    "\n",
    "## Structure de l'image\n",
    ". Axes diagonaux : ce sont des histogrammes (ou parfois des courbes de densité) montrant la distribution d'une seule variable pour chaque espèce (indiquée par hue='species'). Les couleurs diffèrent pour chaque espèce (par exemple, setosa, versicolor et virginca).\n",
    ". Hors diagonale : ce sont des graphiques de dispersion (scatter plots) représentant les relations entre deux variables différentes, par exemple:\n",
    "   * sepal_length contre sepal_width\n",
    "   * petal_length contre petal_width , etc\n",
    "\n",
    "## Utilisation de hue='species'\n",
    ". Les points de chaque espèce (catégorie de la colonne species) sont différenciés par des couleurs distinctes.\n",
    ". Cela permet d'explorer si les espèces sont bien séparées ou se chevauchent dans l'espace formé par les variables.\n",
    "\n",
    "## Observation possibles dans l'image\n",
    ". Relation entre variables :\n",
    "   * Par exemple, petal_length et petal_width pourraient montrer une forte corrélation pour certaines espèces.\n",
    "   * Les variables comme sepal_length et sepal_width pourraient montrer une séparation moins nette entre les espèces.\n",
    ". Séparabilité des espèces :\n",
    "   * Setosa est souvent bien séparée des autres espèces, surtout en fonction des dimensions des pétales.\n",
    "   * Versicolor et Virginica peuvent montrer un certain chevauchement, surtout sur les dimensions des sépales.\n",
    "\n",
    "## Ojectif de l'image\n",
    ". C'est une excellente première étape pour comprendre la structure des données, identifier des tendances, des corrélations ou des clusters, et choisir les bonnes var"
   ]
  },
  {
   "cell_type": "code",
   "execution_count": null,
   "id": "3e6efba1-bb0d-44b2-8d90-fc8aa1aee419",
   "metadata": {},
   "outputs": [],
   "source": []
  }
 ],
 "metadata": {
  "kernelspec": {
   "display_name": "Python 3 (ipykernel)",
   "language": "python",
   "name": "python3"
  },
  "language_info": {
   "codemirror_mode": {
    "name": "ipython",
    "version": 3
   },
   "file_extension": ".py",
   "mimetype": "text/x-python",
   "name": "python",
   "nbconvert_exporter": "python",
   "pygments_lexer": "ipython3",
   "version": "3.12.4"
  }
 },
 "nbformat": 4,
 "nbformat_minor": 5
}
