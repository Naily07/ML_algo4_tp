{
 "cells": [
  {
   "cell_type": "markdown",
   "id": "b6f60d2a-0ad3-4fb8-9127-b1a8567eeac7",
   "metadata": {},
   "source": [
    "# 1 -Description Dataset Iris (origine, variables, objectifs d'études)\n",
    "\n",
    "## Origine\n",
    "Le dataset Iris est un ensemble de données célèbre en apprentissage automatique et en statistiques.\n",
    "C'est un jeu de données Iris connu aussi sous le nom de Iris de Fisher qui est un jeu de donées multivariées présenté en 1936 par Ronald Fisher. Les données sont collectées afin de quantifier les variations de morphologie des fleurs d'iris de trois espèces: Iris setosa, Iris versicolor et Iris virginica.\n",
    "\n",
    "## Variables\n",
    "Le dataset contient 150 observations réparties uniformément entre les trois espèces. Chaque observation est décrite par :\n",
    "\n",
    "Longueur du sépale (en cm)\n",
    "Largeur du sépale (en cm)\n",
    "Longueur du pétale (en cm)\n",
    "Largeur du pétale (en cm)\n",
    "Espèce : la classe (Setosa, Versicolor, ou Virginica).\n",
    "\n",
    "## Ojectifs d'études\n",
    ". Effectuer une classification des espèces en fonction des mesures.\n",
    ". Tester des algorithmes de machine learning tels que la régression logistique, les SVM, ou les réseaux de neurones.\n",
    ". Étudier les relations entre les variables à travers des visualisations et des analyses statistiques"
   ]
  },
  {
   "cell_type": "markdown",
   "id": "7d3edb44-839d-4967-b450-072297925c7d",
   "metadata": {},
   "source": [
    "# 3 - Discussion sur les observations importantes à partir des visualisation"
   ]
  },
  {
   "cell_type": "code",
   "execution_count": null,
   "id": "3e6efba1-bb0d-44b2-8d90-fc8aa1aee419",
   "metadata": {},
   "outputs": [],
   "source": []
  }
 ],
 "metadata": {
  "kernelspec": {
   "display_name": "Python 3 (ipykernel)",
   "language": "python",
   "name": "python3"
  },
  "language_info": {
   "codemirror_mode": {
    "name": "ipython",
    "version": 3
   },
   "file_extension": ".py",
   "mimetype": "text/x-python",
   "name": "python",
   "nbconvert_exporter": "python",
   "pygments_lexer": "ipython3",
   "version": "3.12.4"
  }
 },
 "nbformat": 4,
 "nbformat_minor": 5
}
